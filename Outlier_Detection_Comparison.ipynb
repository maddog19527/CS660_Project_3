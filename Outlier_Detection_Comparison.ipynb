{
  "nbformat": 4,
  "nbformat_minor": 0,
  "metadata": {
    "colab": {
      "provenance": [],
      "authorship_tag": "ABX9TyM+o5gUb24HUJa5tXUaZIO/",
      "include_colab_link": true
    },
    "kernelspec": {
      "name": "python3",
      "display_name": "Python 3"
    },
    "language_info": {
      "name": "python"
    }
  },
  "cells": [
    {
      "cell_type": "markdown",
      "metadata": {
        "id": "view-in-github",
        "colab_type": "text"
      },
      "source": [
        "<a href=\"https://colab.research.google.com/github/maddog19527/CS660_Project_3/blob/Mike's-Draft/Outlier_Detection_Comparison.ipynb\" target=\"_parent\"><img src=\"https://colab.research.google.com/assets/colab-badge.svg\" alt=\"Open In Colab\"/></a>"
      ]
    },
    {
      "cell_type": "code",
      "execution_count": null,
      "metadata": {
        "id": "S1aI_SClIYDS"
      },
      "outputs": [],
      "source": [
        "import numpy as np\n",
        "import pandas as pd\n",
        "import seaborn as sns\n",
        "import matplotlib.pyplot as plt\n",
        "from sklearn.tree import DecisionTreeRegressor\n",
        "from sklearn.ensemble import RandomForestRegressor\n",
        "from sklearn.model_selection import train_test_split\n",
        "from sklearn.metrics import confusion_matrix\n",
        "from sklearn.neighbors import KNeighborsClassifier, KNeighborsRegressor, LocalOutlierFactor\n",
        "from sklearn.metrics import mean_squared_error, r2_score\n",
        "from sklearn.preprocessing import StandardScaler\n",
        "from sklearn import tree\n",
        "from sklearn.tree import plot_tree\n",
        "import seaborn as sns\n",
        "from scipy import stats\n",
        "from sklearn.preprocessing import LabelEncoder\n",
        "from sklearn.preprocessing import OneHotEncoder\n",
        "\n",
        "from sklearn.datasets import fetch_california_housing\n",
        "\n",
        "\n",
        "housing=fetch_california_housing()\n",
        "cal_df=pd.DataFrame(data=housing.data, columns=housing.feature_names)\n",
        "cal_df['Medvalue'] = housing.target\n",
        "print(cal_df.head())\n",
        "print(cal_df.shape)"
      ]
    },
    {
      "cell_type": "markdown",
      "source": [
        "Z-Score Outlier Detection"
      ],
      "metadata": {
        "id": "pgxZQu-QJVyK"
      }
    },
    {
      "cell_type": "code",
      "source": [
        "def ZOutliers(df):\n",
        "  zdf=df.copy()\n",
        "  outliers=pd.DataFrame()\n",
        "  for col in zdf.columns:\n",
        "    zscore=stats.zscore(zdf[col])\n",
        "    zdf[f'{col}_zscore']=zscore\n",
        "    outliers=pd.concat([outliers,zdf[zdf[f'{col}_zscore'].abs()>2.5]])\n",
        "    outliers.drop_duplicates(inplace=True)\n",
        "    z_score_columns=[col for col in outliers.columns if col.endswith('_zscore')]\n",
        "    outliers=outliers.drop(columns=z_score_columns)\n",
        "    outliers.to_csv('outliers.csv', index=False)\n",
        "  return outliers\n",
        "outliers=ZOutliers(cal_df)\n",
        "print(outliers.shape)"
      ],
      "metadata": {
        "id": "XnOcii0fJSj6"
      },
      "execution_count": null,
      "outputs": []
    },
    {
      "cell_type": "markdown",
      "source": [
        "IQR Outlier Detection"
      ],
      "metadata": {
        "id": "wYHEQIc1JYlu"
      }
    },
    {
      "cell_type": "code",
      "source": [
        "def OutlierDetection(df):\n",
        "  clean_df=df.copy()\n",
        "  outliers=pd.DataFrame()\n",
        "  for col in clean_df.columns:\n",
        "    Q1=df[col].quantile(0.25)\n",
        "    Q3=df[col].quantile(0.75)\n",
        "    IQR=Q3-Q1\n",
        "    lower=Q1-1.5*IQR\n",
        "    upper=Q3+1.5*IQR\n",
        "    mask=(df[col] >= lower) & (df[col]<=upper)\n",
        "    outliers=pd.concat([outliers,df[~mask]])\n",
        "    outliers.drop_duplicates(inplace=True)\n",
        "  return outliers\n",
        "cal_df=OutlierDetection(cal_df)\n",
        "print(cal_df.shape)"
      ],
      "metadata": {
        "id": "2uJNHiDHJcbS"
      },
      "execution_count": null,
      "outputs": []
    },
    {
      "cell_type": "markdown",
      "source": [
        "KNN Outlier Detection"
      ],
      "metadata": {
        "id": "wOiuPTU0Jf2j"
      }
    },
    {
      "cell_type": "code",
      "source": [
        "def KNNOutliers(df):\n",
        "  df1=df.copy()\n",
        "  combinedoutliers=pd.DataFrame()\n",
        "  for col in df.columns:\n",
        "    k=20\n",
        "    knn=KNeighborsRegressor(n_neighbors=k)\n",
        "    knn.fit(df1.iloc[:,1:9], df1[col])\n",
        "    distances,indeces=knn.kneighbors(df1.iloc[:,1:9])\n",
        "    df1[f'outlierscore for {col}']=np.mean(distances, axis=1)\n",
        "    threshold=np.percentile(np.mean(distances, axis=1), 95)\n",
        "    df1[f'threshold for {col}']=threshold\n",
        "    outliers=np.where(np.mean(distances, axis=1)>threshold)[0]\n",
        "    outliersdoc=pd.DataFrame(outliers)\n",
        "    outliersdoc.drop_duplicates(inplace=True)\n",
        "    outliersdoc.columns=[col]\n",
        "    combinedoutliers=pd.concat([combinedoutliers, outliersdoc], ignore_index=True)\n",
        "  return combinedoutliers\n",
        "outliersinfo=KNNOutliers(cal_df)\n",
        "print(outliersinfo.shape)"
      ],
      "metadata": {
        "id": "kzF3GvoTJhd5"
      },
      "execution_count": null,
      "outputs": []
    },
    {
      "cell_type": "markdown",
      "source": [
        "Running the base Regression Analysis using each outlier detection program for camprison."
      ],
      "metadata": {
        "id": "4WJTHh9IJsZy"
      }
    },
    {
      "cell_type": "code",
      "source": [
        "def outliertest(df):\n",
        "  KNN=KNNOutliers(df)\n",
        "  Z=ZOutliers(df)\n",
        "  IQR=OutlierDetection(df)\n",
        "  Outliers=[KNN,Z,IQR]\n",
        "  regressionresults={}\n",
        "  for i, outlier in enumerate(Outliers):\n",
        "    outlier_indeces=outlier.index.tolist()\n",
        "    outlier_indeces=[idx for idx in outlier_indeces if idx in df.index]\n",
        "    cleandf=df.drop(index=outlier_indeces)\n",
        "    X=cleandf.iloc[:,1:9].values\n",
        "    y=cleandf['Medvalue'].values\n",
        "    x_train,x_test,y_train,y_test=train_test_split(X,y,test_size=0.2, random_state=42)\n",
        "    clf=RandomForestRegressor()\n",
        "    CLFDT=DecisionTreeRegressor()\n",
        "    clf.fit(x_train,y_train)\n",
        "    CLFDT.fit(x_train,y_train)\n",
        "    y_pred=clf.predict(x_test)\n",
        "    y_predDT=CLFDT.predict(x_test)\n",
        "    print(f\"Mean Squared Error for Random Forest for {i + 1}: {mean_squared_error(y_test,y_pred)}\")\n",
        "    print(f\"R2 Score for Random Forest for {i + 1}: {r2_score(y_test,y_pred)}\")\n",
        "    print(f\"Mean Squared Error for Decision Tree for {i + 1}: {mean_squared_error(y_test,y_predDT)}\")\n",
        "    print(f\"R2 Score for Decision Tree for {i + 1}: {r2_score(y_test,y_predDT)}\")\n",
        "    regressionresults[f\"Outlier Method {i + 1}\"] = {\n",
        "        \"RandomForest\": {\n",
        "            \"Mean Squared Error\": mean_squared_error(y_test, y_pred),\n",
        "            \"R2 Score\": r2_score(y_test, y_pred)\n",
        "        },\n",
        "        \"DecisionTree\": {\n",
        "            \"Mean Squared Error\": mean_squared_error(y_test, y_predDT),\n",
        "            \"R2 Score\": r2_score(y_test, y_predDT)\n",
        "        }\n",
        "    }\n",
        "\n",
        "\n",
        "outliertest(cal_df)"
      ],
      "metadata": {
        "id": "nB_pAl6tJqay"
      },
      "execution_count": null,
      "outputs": []
    }
  ]
}