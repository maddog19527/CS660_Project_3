{
  "nbformat": 4,
  "nbformat_minor": 0,
  "metadata": {
    "colab": {
      "provenance": [],
      "authorship_tag": "ABX9TyM2ktYpBS5toFcuC6KJr1Ii",
      "include_colab_link": true
    },
    "kernelspec": {
      "name": "python3",
      "display_name": "Python 3"
    },
    "language_info": {
      "name": "python"
    }
  },
  "cells": [
    {
      "cell_type": "markdown",
      "metadata": {
        "id": "view-in-github",
        "colab_type": "text"
      },
      "source": [
        "<a href=\"https://colab.research.google.com/github/maddog19527/CS660_Project_3/blob/Mike's-Draft/onehot.ipynb\" target=\"_parent\"><img src=\"https://colab.research.google.com/assets/colab-badge.svg\" alt=\"Open In Colab\"/></a>"
      ]
    },
    {
      "cell_type": "markdown",
      "source": [
        "One-Hot Encoder Function"
      ],
      "metadata": {
        "id": "o_R2ePEWiF69"
      }
    },
    {
      "cell_type": "code",
      "execution_count": null,
      "metadata": {
        "id": "_xMoGIouiAiq"
      },
      "outputs": [],
      "source": [
        "def OneHot(df):\n",
        "  testdf=pd.get_dummies(df, columns=['MedInc','HouseAge','AveRooms','Population','AveOccup','Medvalue'], drop_first=True)\n",
        "  encoder=OneHotEncoder(sparse_output=False)\n",
        "  encoded_columns=encoder.fit_transform(testdf)\n",
        "  onehotdf=pd.DataFrame(encoded_columns, columns=encoder.get_feature_names_out())\n",
        "  dfonehot=pd.concat([df, onehotdf], axis=1)\n",
        "  print(dfonehot)\n",
        "OneHot(onehotdf)\n"
      ]
    }
  ]
}