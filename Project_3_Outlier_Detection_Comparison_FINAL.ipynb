{
  "nbformat": 4,
  "nbformat_minor": 0,
  "metadata": {
    "colab": {
      "provenance": [],
      "authorship_tag": "ABX9TyM6diVBx9SZND8FLe9RgZw3",
      "include_colab_link": true
    },
    "kernelspec": {
      "name": "python3",
      "display_name": "Python 3"
    },
    "language_info": {
      "name": "python"
    }
  },
  "cells": [
    {
      "cell_type": "markdown",
      "metadata": {
        "id": "view-in-github",
        "colab_type": "text"
      },
      "source": [
        "<a href=\"https://colab.research.google.com/github/maddog19527/CS660_Project_3/blob/Mike's-Draft/Project_3_Outlier_Detection_Comparison_FINAL.ipynb\" target=\"_parent\"><img src=\"https://colab.research.google.com/assets/colab-badge.svg\" alt=\"Open In Colab\"/></a>"
      ]
    },
    {
      "cell_type": "code",
      "execution_count": 4,
      "metadata": {
        "colab": {
          "base_uri": "https://localhost:8080/"
        },
        "id": "S1aI_SClIYDS",
        "outputId": "580c749e-acb2-4ff0-df17-c26308c35673"
      },
      "outputs": [
        {
          "output_type": "stream",
          "name": "stdout",
          "text": [
            "   MedInc  HouseAge  AveRooms  AveBedrms  Population  AveOccup  Latitude  \\\n",
            "0  8.3252      41.0  6.984127   1.023810       322.0  2.555556     37.88   \n",
            "1  8.3014      21.0  6.238137   0.971880      2401.0  2.109842     37.86   \n",
            "2  7.2574      52.0  8.288136   1.073446       496.0  2.802260     37.85   \n",
            "3  5.6431      52.0  5.817352   1.073059       558.0  2.547945     37.85   \n",
            "4  3.8462      52.0  6.281853   1.081081       565.0  2.181467     37.85   \n",
            "\n",
            "   Longitude  Medvalue  \n",
            "0    -122.23     4.526  \n",
            "1    -122.22     3.585  \n",
            "2    -122.24     3.521  \n",
            "3    -122.25     3.413  \n",
            "4    -122.25     3.422  \n",
            "(20640, 9)\n"
          ]
        }
      ],
      "source": [
        "import numpy as np\n",
        "import pandas as pd\n",
        "import seaborn as sns\n",
        "import matplotlib.pyplot as plt\n",
        "from sklearn.tree import DecisionTreeRegressor\n",
        "from sklearn.ensemble import RandomForestRegressor\n",
        "from sklearn.model_selection import train_test_split\n",
        "from sklearn.metrics import confusion_matrix\n",
        "from sklearn.neighbors import KNeighborsClassifier, KNeighborsRegressor, LocalOutlierFactor\n",
        "from sklearn.metrics import mean_squared_error, r2_score\n",
        "from sklearn.preprocessing import StandardScaler\n",
        "from sklearn import tree\n",
        "from sklearn.tree import plot_tree\n",
        "import seaborn as sns\n",
        "from scipy import stats\n",
        "from sklearn.preprocessing import LabelEncoder\n",
        "from sklearn.preprocessing import OneHotEncoder\n",
        "from sklearn.model_selection import GridSearchCV\n",
        "from sklearn.metrics import accuracy_score, confusion_matrix, classification_report\n",
        "\n",
        "from sklearn.datasets import fetch_california_housing\n",
        "\n",
        "\n",
        "housing=fetch_california_housing()\n",
        "cal_df=pd.DataFrame(data=housing.data, columns=housing.feature_names)\n",
        "cal_df['Medvalue'] = housing.target\n",
        "print(cal_df.head())\n",
        "print(cal_df.shape)"
      ]
    },
    {
      "cell_type": "markdown",
      "source": [
        "Z-Score Outlier Detection"
      ],
      "metadata": {
        "id": "pgxZQu-QJVyK"
      }
    },
    {
      "cell_type": "code",
      "source": [
        "def ZOutliers(df):\n",
        "  zdf=df.copy()\n",
        "  outliers=pd.DataFrame()\n",
        "  for col in zdf.columns:\n",
        "    zscore=stats.zscore(zdf[col])\n",
        "    zdf[f'{col}_zscore']=zscore\n",
        "    mask=zdf[f'{col}_zscore'].abs()<2.5\n",
        "    zdf=zdf[mask]\n",
        "    outliers.drop_duplicates(inplace=True)\n",
        "    z_score_columns=[col for col in outliers.columns if col.endswith('_zscore')]\n",
        "    outliers=outliers.drop(columns=z_score_columns)\n",
        "    outliers.to_csv('outliers.csv', index=False)\n",
        "  return zdf"
      ],
      "metadata": {
        "id": "XnOcii0fJSj6"
      },
      "execution_count": 5,
      "outputs": []
    },
    {
      "cell_type": "markdown",
      "source": [
        "IQR Outlier Detection"
      ],
      "metadata": {
        "id": "wYHEQIc1JYlu"
      }
    },
    {
      "cell_type": "code",
      "source": [
        "def OutlierDetection(df):\n",
        "  clean_df=df.copy()\n",
        "  outliers=pd.DataFrame()\n",
        "  for col in clean_df.columns:\n",
        "    Q1=df[col].quantile(0.25)\n",
        "    Q3=df[col].quantile(0.75)\n",
        "    IQR=Q3-Q1\n",
        "    lower=Q1-1.5*IQR\n",
        "    upper=Q3+1.5*IQR\n",
        "    mask=(df[col] >= lower) & (df[col]<=upper)\n",
        "    clean_df=clean_df[mask]\n",
        "    outliers[col]=df[col][~mask]\n",
        "  return clean_df"
      ],
      "metadata": {
        "id": "2uJNHiDHJcbS"
      },
      "execution_count": 6,
      "outputs": []
    },
    {
      "cell_type": "markdown",
      "source": [
        "KNN Outlier Detection"
      ],
      "metadata": {
        "id": "wOiuPTU0Jf2j"
      }
    },
    {
      "cell_type": "code",
      "source": [
        "def KNNOutliers(df):\n",
        "  df1=df.copy()\n",
        "  combinedoutliers=pd.DataFrame()\n",
        "  for col in df.columns:\n",
        "    k=20\n",
        "    knn=KNeighborsRegressor(n_neighbors=k)\n",
        "    knn.fit(df1.iloc[:,1:9], df1[col])\n",
        "    distances,indeces=knn.kneighbors(df1.iloc[:,1:9])\n",
        "    df1[f'outlierscore for {col}']=np.mean(distances, axis=1)\n",
        "    threshold=np.percentile(np.mean(distances, axis=1), 95)\n",
        "    mask=df1[f'outlierscore for {col}']<threshold\n",
        "    df1=df1[mask]\n",
        "    # outliersdoc=pd.DataFrame(outliers)\n",
        "    # outliersdoc.drop_duplicates(inplace=True)\n",
        "    # outliersdoc.columns=[col]\n",
        "    # combinedoutliers=pd.concat([combinedoutliers, outliersdoc], ignore_index=True)\n",
        "  return df1\n"
      ],
      "metadata": {
        "id": "kzF3GvoTJhd5"
      },
      "execution_count": 7,
      "outputs": []
    },
    {
      "cell_type": "markdown",
      "source": [
        "Running the base Regression Analysis using each outlier detection program for camprison."
      ],
      "metadata": {
        "id": "4WJTHh9IJsZy"
      }
    },
    {
      "cell_type": "code",
      "source": [
        "from sklearn.base import BaseEstimator, TransformerMixin\n",
        "\n",
        "class OutlierHandling(BaseEstimator, TransformerMixin):\n",
        "  def __init__(self, method='KNN'):\n",
        "    self.method=method\n",
        "\n",
        "  def fit(self, X, y=None):\n",
        "    return self\n",
        "\n",
        "  def transform(self, X):\n",
        "    if self.method=='KNN':\n",
        "      return KNNOutliers(X)\n",
        "    elif self.method=='Z':\n",
        "      return ZOutliers(X)\n",
        "    elif self.method=='IQR':\n",
        "      return OutlierDetection(X)\n",
        "    else:\n",
        "      raise ValueError(\"Invalid outlier detection method\")\n",
        "\n"
      ],
      "metadata": {
        "id": "T27X0u5vhUWW"
      },
      "execution_count": 8,
      "outputs": []
    },
    {
      "cell_type": "code",
      "source": [
        "# from sklearn.pipeline import Pipeline\n",
        "# from sklearn.model_selection import GridSearchCV\n",
        "# def outlierstest(df):\n",
        "#     X=df.drop(columns=['Medvalue'])\n",
        "#     y=df['Medvalue']\n",
        "#     # df['y']=df['Medvalue']\n",
        "#     x_train,x_test,y_train,y_test=train_test_split(X,y,test_size=0.2, random_state=42)\n",
        "#     pipeline=Pipeline([('outlierhandler', OutlierHandling()), ('model', RandomForestRegressor())])\n",
        "#     param_grid=[\n",
        "#             {\n",
        "#             \"model\": [RandomForestRegressor()],\n",
        "#             \"outlierhandler__method\": [\"KNN\", \"Z\", \"IQR\"],\n",
        "#             \"model__n_estimators\"      : [10,20,30],\n",
        "#             \"model__min_samples_split\" : [2,4,8],\n",
        "#             },\n",
        "#             {\n",
        "#             'model': [DecisionTreeRegressor()],\n",
        "#             'outlierhandler__method': ['KNN', 'Z', 'IQR'],\n",
        "#             'model__max_depth': [10, 20, 30, None],\n",
        "#             'model__min_samples_split': [2, 5, 10],\n",
        "#             'model__min_samples_leaf': [1, 2, 4]\n",
        "#             }]\n",
        "#     gridclf=GridSearchCV(pipeline, param_grid, cv=5, scoring='neg_mean_squared_error', n_jobs=-1)\n",
        "#     gridclf.fit(x_train,y_train)\n",
        "#     print(\"Best parameters:\", gridclf.best_params_)\n",
        "#     print(\"Best model:\", gridclf.best_estimator_)\n",
        "# outlierstest(cal_df)"
      ],
      "metadata": {
        "id": "nB_pAl6tJqay"
      },
      "execution_count": null,
      "outputs": []
    }
  ]
}